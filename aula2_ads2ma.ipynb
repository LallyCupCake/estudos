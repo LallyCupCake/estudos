{
  "nbformat": 4,
  "nbformat_minor": 0,
  "metadata": {
    "colab": {
      "provenance": []
    },
    "kernelspec": {
      "name": "python3",
      "display_name": "Python 3"
    },
    "language_info": {
      "name": "python"
    }
  },
  "cells": [
    {
      "cell_type": "code",
      "execution_count": 1,
      "metadata": {
        "colab": {
          "base_uri": "https://localhost:8080/"
        },
        "id": "7GVvMm2YcOb2",
        "outputId": "0ecd8eb2-a5c8-4514-95e5-48edfae075f3"
      },
      "outputs": [
        {
          "output_type": "stream",
          "name": "stdout",
          "text": [
            "hello world\n",
            "<class 'bool'>\n"
          ]
        }
      ],
      "source": [
        "# UNINASSAU\n",
        "# DOCENTE: CLOVES ROCHA\n",
        "# ESTUDANTE: EULÁLIA JOFFILY\n",
        "# TIPOS PRIMITIVOS DE DADOS\n",
        "\n",
        "#print ('hello world')\n",
        "\n",
        "c = True\n",
        "print (type(c))"
      ]
    }
  ]
}