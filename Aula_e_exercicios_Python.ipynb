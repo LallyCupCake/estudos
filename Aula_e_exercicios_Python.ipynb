{
  "nbformat": 4,
  "nbformat_minor": 0,
  "metadata": {
    "colab": {
      "provenance": [],
      "authorship_tag": "ABX9TyPm/pp43uax4A1IGPKV7u5d",
      "include_colab_link": true
    },
    "kernelspec": {
      "name": "python3",
      "display_name": "Python 3"
    },
    "language_info": {
      "name": "python"
    }
  },
  "cells": [
    {
      "cell_type": "markdown",
      "metadata": {
        "id": "view-in-github",
        "colab_type": "text"
      },
      "source": [
        "<a href=\"https://colab.research.google.com/github/LallyCupCake/estudos/blob/main/Aula_e_exercicios_Python.ipynb\" target=\"_parent\"><img src=\"https://colab.research.google.com/assets/colab-badge.svg\" alt=\"Open In Colab\"/></a>"
      ]
    },
    {
      "cell_type": "code",
      "source": [
        "# 3. Operadores Aritméticos\n",
        "\n",
        "#Soma\n",
        "soma = 1 + 2\n",
        "print(soma)\n",
        "\n",
        "#Subtração\n",
        "sub = 3 - 2\n",
        "print (sub)\n",
        "\n",
        "#Multiplicação\n",
        "mult = 3 * 2\n",
        "print (mult)\n",
        "\n",
        "#Divisão\n",
        "div = 4 / 3\n",
        "print (div)\n",
        "\n"
      ],
      "metadata": {
        "id": "bLNuNdRlybNg"
      },
      "execution_count": null,
      "outputs": []
    },
    {
      "cell_type": "code",
      "execution_count": 16,
      "metadata": {
        "colab": {
          "base_uri": "https://localhost:8080/"
        },
        "id": "6sz942ZexKgz",
        "outputId": "9a43bce7-805c-49a1-8bcb-01a022f85748"
      },
      "outputs": [
        {
          "output_type": "stream",
          "name": "stdout",
          "text": [
            "Digite sua Idade: 15\n",
            "você tem 15 anos.\n",
            "<class 'int'>\n",
            "você é menor de idade\n"
          ]
        }
      ],
      "source": [
        "# 7. função input().\n",
        "\n",
        "'''\n",
        "print ('olá ADS 2MA')\n",
        "nome = input('Digite o nome: ')\n",
        "cpf = int(input('digite seu GPF: '))\n",
        "print (nome)\n",
        "print(cpf)\n",
        "'''\n",
        "\n",
        "idade = int(input('Digite sua Idade: '))\n",
        "print (f'você tem {idade} anos.')\n",
        "print (type(idade))\n"
      ]
    },
    {
      "cell_type": "code",
      "source": [
        "# 8. Estruturas Condicionais.\n",
        "numero = int(input('digite um número: '))\n",
        "if numero % 2 == 0:\n",
        "  print(f'O numero {numero} é par.')\n",
        "else:\n",
        "  print (f'O numero {numero} é ímpar.')"
      ],
      "metadata": {
        "colab": {
          "base_uri": "https://localhost:8080/"
        },
        "id": "5mrcgT_61V4n",
        "outputId": "1bfa3aa8-7ea4-4ba6-fc2c-e620c7d27203"
      },
      "execution_count": 19,
      "outputs": [
        {
          "output_type": "stream",
          "name": "stdout",
          "text": [
            "digite um número: 3\n",
            "O numero 3 é impar\n"
          ]
        }
      ]
    },
    {
      "cell_type": "code",
      "source": [
        "# 9. Estruturas Condicionais Aninhadas e o elif.\n",
        "num = float(input('Digite um número: '))\n",
        "if num > 0:\n",
        "  print ('esse número é positivo')\n",
        "elif num == 0:\n",
        "  print ('esse número é neutro')\n",
        "else:\n",
        "  print ('esse número é negativo')"
      ],
      "metadata": {
        "colab": {
          "base_uri": "https://localhost:8080/"
        },
        "id": "7GBDsDVp25BH",
        "outputId": "e7045ac5-b0b5-4213-e7e1-bef309565f58"
      },
      "execution_count": 24,
      "outputs": [
        {
          "output_type": "stream",
          "name": "stdout",
          "text": [
            "Digite um número: -10\n",
            "esse número é negativo\n",
            "Digite sua idade: 20\n",
            "você é obrigado a votar!\n"
          ]
        }
      ]
    },
    {
      "cell_type": "code",
      "source": [
        "# 10. Operadores Lógicos:\n",
        "# and; or; função range()\n",
        "# e os operadores in; not in;\n",
        "resposta = int(input('Digite sua idade: '))\n",
        "if resposta > 18 and resposta < 65:\n",
        "  print ('você é obrigado a votar!')\n",
        "elif resposta >= 16 and resposta <= 18:\n",
        "  print ('você pode votar se quiser')\n",
        "else:\n",
        "  print ('você não é obrigado a votar!')"
      ],
      "metadata": {
        "colab": {
          "base_uri": "https://localhost:8080/"
        },
        "id": "tzoLykzk8PLE",
        "outputId": "ba00f1e2-a995-4447-b66e-dd1843b8c873"
      },
      "execution_count": 36,
      "outputs": [
        {
          "output_type": "stream",
          "name": "stdout",
          "text": [
            "Digite sua idade: 16\n",
            "você pode votar se quiser\n"
          ]
        }
      ]
    },
    {
      "cell_type": "code",
      "source": [
        "print ('1. Idoso')\n",
        "print ('2. Gestante')\n",
        "print ('3. Cadeirante')\n",
        "print ('4. Nenhum destes')\n",
        "resposta = int(input('você é: '))\n",
        "\n",
        "if (resposta == 1) or (resposta == 2) or (resposta == 3):\n",
        "  print ('você tem direito a fila prioritária')\n",
        "else:\n",
        "  print ('você não tem direito a fila prioritária')"
      ],
      "metadata": {
        "colab": {
          "base_uri": "https://localhost:8080/"
        },
        "id": "YODz4z1C767D",
        "outputId": "bda30a7c-9827-4fc7-a8c3-7996903422d4"
      },
      "execution_count": 38,
      "outputs": [
        {
          "output_type": "stream",
          "name": "stdout",
          "text": [
            "1. Idoso\n",
            "2. Gestante\n",
            "3. Cadeirante\n",
            "4. Nenhum destes\n",
            "você é: 4\n",
            "você não tem direito a fila prioritária\n"
          ]
        }
      ]
    },
    {
      "cell_type": "code",
      "source": [
        "# Operador not\n",
        "a = 4\n",
        "b = 2\n",
        "print(not a > b)"
      ],
      "metadata": {
        "colab": {
          "base_uri": "https://localhost:8080/"
        },
        "id": "mm2B93x39kAA",
        "outputId": "346931cb-eedf-4b85-fd5a-e66a528a73b3"
      },
      "execution_count": 47,
      "outputs": [
        {
          "output_type": "stream",
          "name": "stdout",
          "text": [
            "False\n"
          ]
        }
      ]
    },
    {
      "cell_type": "code",
      "source": [
        "banda = str(input('qual a melhor banda do mundo? '))\n",
        "if not banda == 'loona':\n",
        "  print('resposta errada')\n",
        "else:\n",
        "  print ('certo, o loona é o melhor grupo do mundo!')"
      ],
      "metadata": {
        "colab": {
          "base_uri": "https://localhost:8080/"
        },
        "id": "Snl4KHID_9Gm",
        "outputId": "77acad6b-d1d2-47d4-9d4e-3bead192b7a3"
      },
      "execution_count": 49,
      "outputs": [
        {
          "output_type": "stream",
          "name": "stdout",
          "text": [
            "qual a melhor banda do mundo? loona\n",
            "certo, o loona é o melhor grupo do mundo!\n"
          ]
        }
      ]
    },
    {
      "cell_type": "code",
      "source": [
        "# Operador in; not in:\n",
        "a = int(input('digite um numero: '))\n",
        "if a in range (1, 300):\n",
        "  print (f'{a} está entre 1 e 300')\n",
        "else:\n",
        "  print (f'{a} não está entre 1 e 300')"
      ],
      "metadata": {
        "colab": {
          "base_uri": "https://localhost:8080/"
        },
        "id": "qdPanOQdAdwN",
        "outputId": "1f9ece4d-566a-432d-9e6f-e7ceec90b8c0"
      },
      "execution_count": 51,
      "outputs": [
        {
          "output_type": "stream",
          "name": "stdout",
          "text": [
            "digite um numero: 400\n",
            "400 não está entre 1 e 300\n"
          ]
        }
      ]
    },
    {
      "cell_type": "code",
      "source": [
        "# ********EXERCICIOS******** #"
      ],
      "metadata": {
        "id": "TQgnhztKCVvD"
      },
      "execution_count": null,
      "outputs": []
    },
    {
      "cell_type": "code",
      "source": [
        "print ('Olá UNINASSAU!')"
      ],
      "metadata": {
        "colab": {
          "base_uri": "https://localhost:8080/"
        },
        "id": "hSWG3c-a5tWy",
        "outputId": "4f9c1363-b846-4020-95ef-35ef2dae56c2"
      },
      "execution_count": 25,
      "outputs": [
        {
          "output_type": "stream",
          "name": "stdout",
          "text": [
            "Olá ETE PORTO DIGITAL!\n"
          ]
        }
      ]
    },
    {
      "cell_type": "code",
      "source": [
        "numero = int(input('digite aqui um numero: '))\n",
        "print (f'o numero é {numero}')"
      ],
      "metadata": {
        "colab": {
          "base_uri": "https://localhost:8080/"
        },
        "id": "H8j148Ia5zMp",
        "outputId": "8de4d026-eaf5-4402-de78-668a9d3b8501"
      },
      "execution_count": 26,
      "outputs": [
        {
          "output_type": "stream",
          "name": "stdout",
          "text": [
            "digite aqui um numero: 5\n",
            "o numero é 5\n"
          ]
        }
      ]
    },
    {
      "cell_type": "code",
      "source": [
        "n1 = int(input('digite aqui o primeiro numero: '))\n",
        "n2 = int(input('digite aqui o segundo numero: '))\n",
        "soma = n1 + n2\n",
        "print (f'a soma de {n1} e {n2} é {soma}')"
      ],
      "metadata": {
        "colab": {
          "base_uri": "https://localhost:8080/"
        },
        "id": "eOkoINrL5_2W",
        "outputId": "f76033ed-9689-4e4f-b9d6-faae2bd0131f"
      },
      "execution_count": 28,
      "outputs": [
        {
          "output_type": "stream",
          "name": "stdout",
          "text": [
            "digite aqui o primeiro numero: 8\n",
            "digite aqui o segundo numero: 7\n",
            "a soma de 8 e 7 é 15\n"
          ]
        }
      ]
    },
    {
      "cell_type": "code",
      "source": [
        "nota1 = float(input('digite aqui sua primeira nota: '))\n",
        "nota2 = float(input('digite aqui a segunda nota: '))\n",
        "nota3 = float(input('digite aqui a terceira nota: '))\n",
        "nota4 = float(input('digite aqui a quarta nota: '))\n",
        "media = (nota1 + nota2 + nota3 + nota4)/4\n",
        "print(f'sua média é {media}')"
      ],
      "metadata": {
        "colab": {
          "base_uri": "https://localhost:8080/"
        },
        "id": "sHQbRgGI6UhD",
        "outputId": "640c9244-aa5e-433a-f9c5-52f726bc1efa"
      },
      "execution_count": 29,
      "outputs": [
        {
          "output_type": "stream",
          "name": "stdout",
          "text": [
            "digite aqui sua primeira nota: 6\n",
            "digite aqui a segunda nota5\n",
            "digite aqui a terceira nota8\n",
            "digite aqui a quarta nota9\n",
            "sua média é 7.0\n"
          ]
        }
      ]
    },
    {
      "cell_type": "code",
      "source": [
        "metro = float(input('digite aqui uma distância em metros: '))\n",
        "cm = metro * 100\n",
        "print (f'a distância de {metro} metros é equivalente a {cm} centímetros')"
      ],
      "metadata": {
        "colab": {
          "base_uri": "https://localhost:8080/"
        },
        "id": "ZgRkdLo56yuM",
        "outputId": "06c13166-03ad-458f-fc89-2eea23ba7d44"
      },
      "execution_count": 31,
      "outputs": [
        {
          "output_type": "stream",
          "name": "stdout",
          "text": [
            "digite aqui uma distância em metros: 5\n",
            "a distância de 5.0 metros é equivalente a 500.0 centímetros\n"
          ]
        }
      ]
    },
    {
      "cell_type": "code",
      "source": [
        "raio = float(input('digite aqui o raio do círculo: '))\n",
        "pi = 3.14\n",
        "area = pi*(raio**2)\n",
        "print (f'a área do círculo de raio {raio} é de {area}')"
      ],
      "metadata": {
        "colab": {
          "base_uri": "https://localhost:8080/"
        },
        "id": "-h4-rC1K7M60",
        "outputId": "13a27466-8db4-4ef7-8dc1-754071e36ef8"
      },
      "execution_count": 32,
      "outputs": [
        {
          "output_type": "stream",
          "name": "stdout",
          "text": [
            "digite aqui o raio do círculo: 3\n",
            "a área do círculo de raio 3.0 é de 28.26\n"
          ]
        }
      ]
    },
    {
      "cell_type": "code",
      "source": [
        "lado = float(input('digite aqui um lado do quadrado: '))\n",
        "area = lado**2\n",
        "area = area*2\n",
        "print (f'o dobro da área do quadrado de lado {lado} é de {area}')\n"
      ],
      "metadata": {
        "colab": {
          "base_uri": "https://localhost:8080/"
        },
        "id": "CakNrE7a7r18",
        "outputId": "b0bf77d2-147c-4059-a412-5fbbf823912c"
      },
      "execution_count": 34,
      "outputs": [
        {
          "output_type": "stream",
          "name": "stdout",
          "text": [
            "digite aqui um lado do quadrado: 5\n",
            "o dobro da área do quadrado de lado 5.0 é de 50.0\n"
          ]
        }
      ]
    },
    {
      "cell_type": "code",
      "source": [
        "ganho = float(input('digite aqui o quanto você ganha por hora:'))\n",
        "horas = float(input('digite aqui quantas horas você trabalha por mês: '))\n",
        "salario = ganho*horas\n",
        "print(f'seu salário é de {salario}')"
      ],
      "metadata": {
        "id": "9OZeZlQO9sdX"
      },
      "execution_count": null,
      "outputs": []
    },
    {
      "cell_type": "code",
      "source": [
        "num = int(input('digite aqui um numero: '))\n",
        "if num > 0:\n",
        "  print('o numero é positivo')\n",
        "else:\n",
        "  print ('o numero é negativo')"
      ],
      "metadata": {
        "id": "Hhi64Pnx-InS"
      },
      "execution_count": null,
      "outputs": []
    },
    {
      "cell_type": "code",
      "source": [
        "genero = str(input('digite seu genero (F ou M): '))\n",
        "if genero == 'F' or genero == 'f':\n",
        "  print(f'{genero} - Feminino')\n",
        "elif genero == 'M' or genero == 'm':\n",
        "  print(f'{genero} - Masculino')\n",
        "else:\n",
        "  print(f'{genero} inválido')"
      ],
      "metadata": {
        "colab": {
          "base_uri": "https://localhost:8080/"
        },
        "id": "k05wVlE--cxX",
        "outputId": "82a8b8ee-edf8-48dc-c2b9-49fdf2738a5d"
      },
      "execution_count": 46,
      "outputs": [
        {
          "output_type": "stream",
          "name": "stdout",
          "text": [
            "digite seu genero (F ou M): g\n",
            "g inválido\n"
          ]
        }
      ]
    },
    {
      "cell_type": "code",
      "source": [
        "# 11. Um pouco de Álgebra Linear\n",
        "api = [1.81, #altura\n",
        "       100, #peso\n",
        "       40] #idade\n",
        "# exercicio calcular o imc: divide-se o peso (em kg)\n",
        "# pelo quadrado da altura (em metro).\n",
        "imc = (api[1])/((api[0])**2)\n",
        "print (imc)"
      ],
      "metadata": {
        "colab": {
          "base_uri": "https://localhost:8080/"
        },
        "id": "P1QOqdNhCl7S",
        "outputId": "2b08ce6d-9e74-4e41-8fa5-6dbc8cd32d9f"
      },
      "execution_count": 58,
      "outputs": [
        {
          "output_type": "stream",
          "name": "stdout",
          "text": [
            "30.52409877598364\n"
          ]
        }
      ]
    },
    {
      "cell_type": "code",
      "source": [
        "notas = [10, #nota1\n",
        "         9,  #nota 2\n",
        "         8   #nota 3\n",
        "         ]\n",
        "# exercício: calcular média do vetor\n",
        "media = (notas[0] + notas[1] + notas[2])/3\n",
        "print (media)"
      ],
      "metadata": {
        "colab": {
          "base_uri": "https://localhost:8080/"
        },
        "id": "0-HXO6rLDxsV",
        "outputId": "a1df9ec2-2fcd-4e09-8345-0ec6634c1f98"
      },
      "execution_count": 62,
      "outputs": [
        {
          "output_type": "stream",
          "name": "stdout",
          "text": [
            "9.0\n",
            "9.0\n"
          ]
        }
      ]
    }
  ]
}